{
 "cells": [
  {
   "cell_type": "code",
   "execution_count": 4,
   "metadata": {},
   "outputs": [
    {
     "name": "stdout",
     "output_type": "stream",
     "text": [
      "\\begin{tabular}{lllllll}\n",
      "\\toprule\n",
      "{} & accuracy & brier\\_score & confidence\\_APR\\_aleatoric & confidence\\_APR\\_epistemic & ood\\_detection\\_APR\\_aleatoric\\_SVHN & ood\\_detection\\_APR\\_epistemic\\_SVHN \\\\\n",
      "\\midrule\n",
      "\\textbf{LR0.01  } & 0.846200 &    0.315310 &                 0.975713 &                 0.975713 &                         0.841328 &                         0.438063 \\\\\n",
      "\\textbf{LR0.001 } & 0.857100 &    0.303199 &                 0.977967 &                 0.977967 &                         0.807124 &                         0.435327 \\\\\n",
      "\\textbf{LR0.0001} & 0.777000 &    0.452980 &                 0.947905 &                 0.947905 &                         0.739570 &                         0.436166 \\\\\n",
      "\\textbf{LR1e-05 } & 0.637800 &    0.633070 &                 0.860558 &                 0.860558 &                         0.594197 &                         0.437037 \\\\\n",
      "\\bottomrule\n",
      "\\end{tabular}\n",
      "\n"
     ]
    },
    {
     "name": "stderr",
     "output_type": "stream",
     "text": [
      "C:\\Users\\ollie\\AppData\\Local\\Temp\\ipykernel_3064\\1531587419.py:34: FutureWarning: In future versions `DataFrame.to_latex` is expected to utilise the base implementation of `Styler.to_latex` for formatting and rendering. The arguments signature may therefore change. It is recommended instead to use `DataFrame.style.to_latex` which also contains additional functionality.\n",
      "  latex_table = results_df.to_latex(float_format=format_float, header=True, bold_rows=True, na_rep='N/A')\n"
     ]
    }
   ],
   "source": [
    "import pandas as pd\n",
    "import os\n",
    "\n",
    "# Metrics and hyperparameters\n",
    "metrics = ['accuracy', 'brier_score', 'confidence_APR_aleatoric', 'confidence_APR_epistemic', 'ood_detection_APR_aleatoric_SVHN', 'ood_detection_APR_epistemic_SVHN']\n",
    "learning_rates = ['LR0.01','LR0.001', 'LR0.0001', 'LR1e-05']\n",
    "\n",
    "# Initialize a DataFrame for results\n",
    "results_df = pd.DataFrame(index=learning_rates, columns=metrics)\n",
    "\n",
    "# Directory with CSV files\n",
    "path = '.'  # Update this if your CSV files are in a different directory\n",
    "\n",
    "# Function to format floats\n",
    "def format_float(x):\n",
    "    return f\"{x:.6f}\"\n",
    "\n",
    "# Process CSV files\n",
    "file_names = [f for f in os.listdir(path) if os.path.isfile(os.path.join(path, f)) and f.endswith('.csv')]\n",
    "for file_name in file_names:\n",
    "    # Extract LR from file name\n",
    "    parts = file_name.split('_')\n",
    "    lr_part = [part for part in parts if part.startswith('LR')][0]\n",
    "    lr_value = 'LR' + lr_part[2:]\n",
    "\n",
    "    # Read data and update the DataFrame\n",
    "    if lr_value in learning_rates:\n",
    "        df = pd.read_csv(os.path.join(path, file_name))\n",
    "        for metric in metrics:\n",
    "            if metric in df.columns:\n",
    "                results_df.loc[lr_value, metric] = df[metric].mean()  # Assuming you want to use the mean value\n",
    "\n",
    "# Convert the DataFrame to a LaTeX table\n",
    "latex_table = results_df.to_latex(float_format=format_float, header=True, bold_rows=True, na_rep='N/A')\n",
    "print(latex_table)\n",
    "\n"
   ]
  }
 ],
 "metadata": {
  "kernelspec": {
   "display_name": "Python 3",
   "language": "python",
   "name": "python3"
  },
  "language_info": {
   "codemirror_mode": {
    "name": "ipython",
    "version": 3
   },
   "file_extension": ".py",
   "mimetype": "text/x-python",
   "name": "python",
   "nbconvert_exporter": "python",
   "pygments_lexer": "ipython3",
   "version": "3.10.10"
  }
 },
 "nbformat": 4,
 "nbformat_minor": 2
}
