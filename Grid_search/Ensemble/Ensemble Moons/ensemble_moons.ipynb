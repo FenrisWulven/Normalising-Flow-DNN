{
 "cells": [
  {
   "cell_type": "code",
   "execution_count": 2,
   "metadata": {},
   "outputs": [
    {
     "name": "stdout",
     "output_type": "stream",
     "text": [
      "\\begin{tabular}{lllllllllll}\n",
      "\\toprule\n",
      "{} & accuracy & brier\\_score & confidence\\_APR\\_aleatoric & confidence\\_APR\\_epistemic & ood\\_detection\\_APR\\_aleatoric\\_Disk & ood\\_detection\\_APR\\_epistemic\\_Disk & ood\\_detection\\_APR\\_aleatoric\\_Circles & ood\\_detection\\_APR\\_epistemic\\_Circles & ood\\_detection\\_APR\\_aleatoric\\_Blobs & ood\\_detection\\_APR\\_epistemic\\_Blobs \\\\\n",
      "\\midrule\n",
      "\\textbf{LR0.01  } & 1.000000 &    0.000234 &                 1.000000 &                 1.000000 &                         0.924560 &                         0.295647 &                            0.316225 &                            0.305724 &                          0.159244 &                          0.366716 \\\\\n",
      "\\textbf{LR0.001 } & 1.000000 &    0.000286 &                 1.000000 &                 1.000000 &                         0.938524 &                         0.305232 &                            0.326550 &                            0.308346 &                          0.159189 &                          0.357675 \\\\\n",
      "\\textbf{LR0.0001} & 1.000000 &    0.006955 &                 1.000000 &                 1.000000 &                         0.897187 &                         0.285520 &                            0.337549 &                            0.280354 &                          0.159140 &                          0.274148 \\\\\n",
      "\\textbf{LR1e-05 } & 0.963333 &    0.226809 &                 0.998555 &                 0.998555 &                         0.923071 &                         0.296354 &                            0.284161 &                            0.284004 &                          0.159128 &                          0.286794 \\\\\n",
      "\\bottomrule\n",
      "\\end{tabular}\n",
      "\n"
     ]
    },
    {
     "name": "stderr",
     "output_type": "stream",
     "text": [
      "C:\\Users\\ollie\\AppData\\Local\\Temp\\ipykernel_16452\\32188147.py:38: FutureWarning: In future versions `DataFrame.to_latex` is expected to utilise the base implementation of `Styler.to_latex` for formatting and rendering. The arguments signature may therefore change. It is recommended instead to use `DataFrame.style.to_latex` which also contains additional functionality.\n",
      "  latex_table = results_df.to_latex(float_format=format_float, header=True, bold_rows=True, na_rep='N/A')\n"
     ]
    }
   ],
   "source": [
    "import pandas as pd\n",
    "import os\n",
    "\n",
    "# Metrics and hyperparameters\n",
    "#metrics = ['accuracy', 'brier_score', 'confidence_APR_aleatoric', 'confidence_APR_epistemic', 'ood_detection_APR_aleatoric_SVHN', 'ood_detection_APR_epistemic_SVHN']\n",
    "metrics = ['accuracy', 'brier_score', 'confidence_APR_aleatoric', 'confidence_APR_epistemic',\n",
    "           'ood_detection_APR_aleatoric_Disk', 'ood_detection_APR_epistemic_Disk',\n",
    "           'ood_detection_APR_aleatoric_Circles', 'ood_detection_APR_epistemic_Circles', \n",
    "            'ood_detection_APR_aleatoric_Blobs', 'ood_detection_APR_epistemic_Blobs']\n",
    "learning_rates = ['LR0.01','LR0.001', 'LR0.0001', 'LR1e-05']\n",
    "\n",
    "# Initialize a DataFrame for results\n",
    "results_df = pd.DataFrame(index=learning_rates, columns=metrics)\n",
    "\n",
    "# Directory with CSV files\n",
    "path = '.'  # Update this if your CSV files are in a different directory\n",
    "\n",
    "# Function to format floats\n",
    "def format_float(x):\n",
    "    return f\"{x:.6f}\"\n",
    "\n",
    "# Process CSV files\n",
    "file_names = [f for f in os.listdir(path) if os.path.isfile(os.path.join(path, f)) and f.endswith('.csv')]\n",
    "for file_name in file_names:\n",
    "    # Extract LR from file name\n",
    "    parts = file_name.split('_')\n",
    "    lr_part = [part for part in parts if part.startswith('LR')][0]\n",
    "    lr_value = 'LR' + lr_part[2:]\n",
    "\n",
    "    # Read data and update the DataFrame\n",
    "    if lr_value in learning_rates:\n",
    "        df = pd.read_csv(os.path.join(path, file_name))\n",
    "        for metric in metrics:\n",
    "            if metric in df.columns:\n",
    "                results_df.loc[lr_value, metric] = df[metric].mean()  # Assuming you want to use the mean value\n",
    "\n",
    "# Convert the DataFrame to a LaTeX table\n",
    "latex_table = results_df.to_latex(float_format=format_float, header=True, bold_rows=True, na_rep='N/A')\n",
    "print(latex_table)\n",
    "\n"
   ]
  }
 ],
 "metadata": {
  "kernelspec": {
   "display_name": "Python 3",
   "language": "python",
   "name": "python3"
  },
  "language_info": {
   "codemirror_mode": {
    "name": "ipython",
    "version": 3
   },
   "file_extension": ".py",
   "mimetype": "text/x-python",
   "name": "python",
   "nbconvert_exporter": "python",
   "pygments_lexer": "ipython3",
   "version": "3.10.10"
  }
 },
 "nbformat": 4,
 "nbformat_minor": 2
}
