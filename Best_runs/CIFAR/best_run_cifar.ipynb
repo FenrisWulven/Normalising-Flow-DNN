{
 "cells": [
  {
   "cell_type": "code",
   "execution_count": 7,
   "metadata": {},
   "outputs": [
    {
     "name": "stdout",
     "output_type": "stream",
     "text": [
      "accuracy : \t 84.84 \t 81.09\n",
      "brier_score : \t 31.46 \t 35.42\n",
      "confidence_APR_aleatoric : \t 97.64 \t 95.21\n",
      "confidence_APR_epistemic : \t 97.64 \t 88.05\n",
      "ood_detection_APR_aleatoric_SVHN : \t 83.95 \t 60.34\n",
      "ood_detection_APR_epistemic_SVHN : \t 43.59 \t 36.97\n"
     ]
    }
   ],
   "source": [
    "import pandas as pd\n",
    "import os\n",
    "import numpy as np\n",
    "\n",
    "\n",
    "path = '.'\n",
    "\n",
    "# Load the csv file\n",
    "df1 = pd.read_csv('csvEnsemble_LR0.01_Warm1000_Epoch500_Wdecay1e-05.csv')\n",
    "df2 = pd.read_csv('csvPostNet_Reg1e-05_LR0.001_Flows6_Warm1000_Epoch200_Wdecay1e-05_HidD64_hLay3_LD6.csv')\n",
    "\n",
    "# Print these metrics mulitplied by 100 and rounded to 2 decimal places\n",
    "metrics = ['accuracy', 'brier_score', 'confidence_APR_aleatoric', 'confidence_APR_epistemic', 'ood_detection_APR_aleatoric_SVHN', 'ood_detection_APR_epistemic_SVHN']\n",
    "\n",
    "for metric in metrics:\n",
    "    print(metric, \": \\t\",round(df1[metric].item()*100, 2), \"\\t\", round(df2[metric].item()*100, 2))\n",
    "\n"
   ]
  },
  {
   "cell_type": "code",
   "execution_count": 2,
   "metadata": {},
   "outputs": [
    {
     "ename": "KeyError",
     "evalue": "'ood_detection_APR_aleatoric_FashionMNIST'",
     "output_type": "error",
     "traceback": [
      "\u001b[1;31m---------------------------------------------------------------------------\u001b[0m",
      "\u001b[1;31mKeyError\u001b[0m                                  Traceback (most recent call last)",
      "File \u001b[1;32mc:\\Users\\ollie\\AppData\\Local\\Programs\\Python\\Python310\\lib\\site-packages\\pandas\\core\\indexes\\base.py:3802\u001b[0m, in \u001b[0;36mIndex.get_loc\u001b[1;34m(self, key, method, tolerance)\u001b[0m\n\u001b[0;32m   3801\u001b[0m \u001b[38;5;28;01mtry\u001b[39;00m:\n\u001b[1;32m-> 3802\u001b[0m     \u001b[38;5;28;01mreturn\u001b[39;00m \u001b[38;5;28;43mself\u001b[39;49m\u001b[38;5;241;43m.\u001b[39;49m\u001b[43m_engine\u001b[49m\u001b[38;5;241;43m.\u001b[39;49m\u001b[43mget_loc\u001b[49m\u001b[43m(\u001b[49m\u001b[43mcasted_key\u001b[49m\u001b[43m)\u001b[49m\n\u001b[0;32m   3803\u001b[0m \u001b[38;5;28;01mexcept\u001b[39;00m \u001b[38;5;167;01mKeyError\u001b[39;00m \u001b[38;5;28;01mas\u001b[39;00m err:\n",
      "File \u001b[1;32mc:\\Users\\ollie\\AppData\\Local\\Programs\\Python\\Python310\\lib\\site-packages\\pandas\\_libs\\index.pyx:138\u001b[0m, in \u001b[0;36mpandas._libs.index.IndexEngine.get_loc\u001b[1;34m()\u001b[0m\n",
      "File \u001b[1;32mc:\\Users\\ollie\\AppData\\Local\\Programs\\Python\\Python310\\lib\\site-packages\\pandas\\_libs\\index.pyx:165\u001b[0m, in \u001b[0;36mpandas._libs.index.IndexEngine.get_loc\u001b[1;34m()\u001b[0m\n",
      "File \u001b[1;32mpandas\\_libs\\hashtable_class_helper.pxi:5745\u001b[0m, in \u001b[0;36mpandas._libs.hashtable.PyObjectHashTable.get_item\u001b[1;34m()\u001b[0m\n",
      "File \u001b[1;32mpandas\\_libs\\hashtable_class_helper.pxi:5753\u001b[0m, in \u001b[0;36mpandas._libs.hashtable.PyObjectHashTable.get_item\u001b[1;34m()\u001b[0m\n",
      "\u001b[1;31mKeyError\u001b[0m: 'ood_detection_APR_aleatoric_FashionMNIST'",
      "\nThe above exception was the direct cause of the following exception:\n",
      "\u001b[1;31mKeyError\u001b[0m                                  Traceback (most recent call last)",
      "Cell \u001b[1;32mIn[2], line 28\u001b[0m\n\u001b[0;32m     26\u001b[0m             df \u001b[38;5;241m=\u001b[39m pd\u001b[38;5;241m.\u001b[39mread_csv(file_name)\n\u001b[0;32m     27\u001b[0m             \u001b[38;5;28;01mfor\u001b[39;00m metric \u001b[38;5;129;01min\u001b[39;00m metrics:\n\u001b[1;32m---> 28\u001b[0m                 results_df\u001b[38;5;241m.\u001b[39mloc[model, metric] \u001b[38;5;241m=\u001b[39m \u001b[43mdf\u001b[49m\u001b[43m[\u001b[49m\u001b[43mmetric\u001b[49m\u001b[43m]\u001b[49m\u001b[38;5;241m.\u001b[39mitem()\n\u001b[0;32m     29\u001b[0m     \u001b[38;5;66;03m# read the data and update the dataframe\u001b[39;00m\n\u001b[0;32m     30\u001b[0m \n\u001b[0;32m     31\u001b[0m \u001b[38;5;66;03m# Convert the DataFrame to a LaTeX table\u001b[39;00m\n\u001b[0;32m     32\u001b[0m latex_table \u001b[38;5;241m=\u001b[39m results_df\u001b[38;5;241m.\u001b[39mto_latex(float_format\u001b[38;5;241m=\u001b[39mformat_float, header\u001b[38;5;241m=\u001b[39m\u001b[38;5;28;01mTrue\u001b[39;00m, bold_rows\u001b[38;5;241m=\u001b[39m\u001b[38;5;28;01mTrue\u001b[39;00m, na_rep\u001b[38;5;241m=\u001b[39m\u001b[38;5;124m'\u001b[39m\u001b[38;5;124mN/A\u001b[39m\u001b[38;5;124m'\u001b[39m)\n",
      "File \u001b[1;32mc:\\Users\\ollie\\AppData\\Local\\Programs\\Python\\Python310\\lib\\site-packages\\pandas\\core\\frame.py:3807\u001b[0m, in \u001b[0;36mDataFrame.__getitem__\u001b[1;34m(self, key)\u001b[0m\n\u001b[0;32m   3805\u001b[0m \u001b[38;5;28;01mif\u001b[39;00m \u001b[38;5;28mself\u001b[39m\u001b[38;5;241m.\u001b[39mcolumns\u001b[38;5;241m.\u001b[39mnlevels \u001b[38;5;241m>\u001b[39m \u001b[38;5;241m1\u001b[39m:\n\u001b[0;32m   3806\u001b[0m     \u001b[38;5;28;01mreturn\u001b[39;00m \u001b[38;5;28mself\u001b[39m\u001b[38;5;241m.\u001b[39m_getitem_multilevel(key)\n\u001b[1;32m-> 3807\u001b[0m indexer \u001b[38;5;241m=\u001b[39m \u001b[38;5;28;43mself\u001b[39;49m\u001b[38;5;241;43m.\u001b[39;49m\u001b[43mcolumns\u001b[49m\u001b[38;5;241;43m.\u001b[39;49m\u001b[43mget_loc\u001b[49m\u001b[43m(\u001b[49m\u001b[43mkey\u001b[49m\u001b[43m)\u001b[49m\n\u001b[0;32m   3808\u001b[0m \u001b[38;5;28;01mif\u001b[39;00m is_integer(indexer):\n\u001b[0;32m   3809\u001b[0m     indexer \u001b[38;5;241m=\u001b[39m [indexer]\n",
      "File \u001b[1;32mc:\\Users\\ollie\\AppData\\Local\\Programs\\Python\\Python310\\lib\\site-packages\\pandas\\core\\indexes\\base.py:3804\u001b[0m, in \u001b[0;36mIndex.get_loc\u001b[1;34m(self, key, method, tolerance)\u001b[0m\n\u001b[0;32m   3802\u001b[0m     \u001b[38;5;28;01mreturn\u001b[39;00m \u001b[38;5;28mself\u001b[39m\u001b[38;5;241m.\u001b[39m_engine\u001b[38;5;241m.\u001b[39mget_loc(casted_key)\n\u001b[0;32m   3803\u001b[0m \u001b[38;5;28;01mexcept\u001b[39;00m \u001b[38;5;167;01mKeyError\u001b[39;00m \u001b[38;5;28;01mas\u001b[39;00m err:\n\u001b[1;32m-> 3804\u001b[0m     \u001b[38;5;28;01mraise\u001b[39;00m \u001b[38;5;167;01mKeyError\u001b[39;00m(key) \u001b[38;5;28;01mfrom\u001b[39;00m \u001b[38;5;21;01merr\u001b[39;00m\n\u001b[0;32m   3805\u001b[0m \u001b[38;5;28;01mexcept\u001b[39;00m \u001b[38;5;167;01mTypeError\u001b[39;00m:\n\u001b[0;32m   3806\u001b[0m     \u001b[38;5;66;03m# If we have a listlike key, _check_indexing_error will raise\u001b[39;00m\n\u001b[0;32m   3807\u001b[0m     \u001b[38;5;66;03m#  InvalidIndexError. Otherwise we fall through and re-raise\u001b[39;00m\n\u001b[0;32m   3808\u001b[0m     \u001b[38;5;66;03m#  the TypeError.\u001b[39;00m\n\u001b[0;32m   3809\u001b[0m     \u001b[38;5;28mself\u001b[39m\u001b[38;5;241m.\u001b[39m_check_indexing_error(key)\n",
      "\u001b[1;31mKeyError\u001b[0m: 'ood_detection_APR_aleatoric_FashionMNIST'"
     ]
    }
   ],
   "source": [
    "import pandas as pd\n",
    "import os\n",
    "\n",
    "# Metrics and hyperparameters\n",
    "#metrics = ['accuracy', 'brier_score', 'confidence_APR_aleatoric', 'confidence_APR_epistemic', 'ood_detection_APR_aleatoric_SVHN', 'ood_detection_APR_epistemic_SVHN']\n",
    "metrics = ['accuracy', 'brier_score', 'confidence_APR_aleatoric', 'confidence_APR_epistemic', 'ood_detection_APR_aleatoric_FashionMNIST', \n",
    "           'ood_detection_APR_epistemic_FashionMNIST', 'ood_detection_APR_aleatoric_KMNIST', 'ood_detection_APR_epistemic_KMNIST']\n",
    "models = ['Ensemble', 'PostNet']\n",
    "# Initialize a DataFrame for results\n",
    "results_df = pd.DataFrame(index=models, columns=metrics)\n",
    "\n",
    "# Directory with CSV files\n",
    "path = '.'  # Update this if your CSV files are in a different directory\n",
    "\n",
    "# Function to format floats\n",
    "def format_float(x):\n",
    "    return f\"{x:.6f}\"\n",
    "\n",
    "# Process CSV files\n",
    "file_names = [f for f in os.listdir(path) if os.path.isfile(os.path.join(path, f)) and f.endswith('.csv')]\n",
    "for file_name in file_names:\n",
    "    # Check if the model name of csv is in the list of models\n",
    "    for model in models:\n",
    "        if model in file_name:\n",
    "            # Read data and update the corresponding DataFrame\n",
    "            df = pd.read_csv(file_name)\n",
    "            for metric in metrics:\n",
    "                results_df.loc[model, metric] = df[metric].item()\n",
    "    # read the data and update the dataframe\n",
    "\n",
    "# Convert the DataFrame to a LaTeX table\n",
    "latex_table = results_df.to_latex(float_format=format_float, header=True, bold_rows=True, na_rep='N/A')\n",
    "print(latex_table)\n",
    "\n"
   ]
  }
 ],
 "metadata": {
  "kernelspec": {
   "display_name": "Python 3",
   "language": "python",
   "name": "python3"
  },
  "language_info": {
   "codemirror_mode": {
    "name": "ipython",
    "version": 3
   },
   "file_extension": ".py",
   "mimetype": "text/x-python",
   "name": "python",
   "nbconvert_exporter": "python",
   "pygments_lexer": "ipython3",
   "version": "3.10.10"
  }
 },
 "nbformat": 4,
 "nbformat_minor": 2
}
