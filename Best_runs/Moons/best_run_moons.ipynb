{
 "cells": [
  {
   "cell_type": "code",
   "execution_count": null,
   "metadata": {},
   "outputs": [],
   "source": [
    "import pandas as pd\n",
    "import os\n",
    "\n",
    "# Metrics and hyperparameters\n",
    "#metrics = ['accuracy', 'brier_score', 'confidence_APR_aleatoric', 'confidence_APR_epistemic', 'ood_detection_APR_aleatoric_SVHN', 'ood_detection_APR_epistemic_SVHN']\n",
    "metrics = ['accuracy', 'brier_score', 'confidence_APR_aleatoric', 'confidence_APR_epistemic',\n",
    "           'ood_detection_APR_aleatoric_Disk', 'ood_detection_APR_epistemic_Disk',\n",
    "           'ood_detection_APR_aleatoric_Circles', 'ood_detection_APR_epistemic_Circles', \n",
    "            'ood_detection_APR_aleatoric_Blobs', 'ood_detection_APR_epistemic_Blobs']\n",
    "learning_rates = ['LR0.01','LR0.001', 'LR0.0001', 'LR1e-05']\n",
    "\n",
    "# Initialize a DataFrame for results\n",
    "results_df = pd.DataFrame(index=learning_rates, columns=metrics)\n",
    "\n",
    "# Directory with CSV files\n",
    "path = '.'  # Update this if your CSV files are in a different directory\n",
    "\n",
    "# Function to format floats\n",
    "def format_float(x):\n",
    "    return f\"{x:.6f}\"\n",
    "\n",
    "# Process CSV files\n",
    "file_names = [f for f in os.listdir(path) if os.path.isfile(os.path.join(path, f)) and f.endswith('.csv')]\n",
    "for file_name in file_names:\n",
    "    # Extract LR from file name\n",
    "    parts = file_name.split('_')\n",
    "    lr_part = [part for part in parts if part.startswith('LR')][0]\n",
    "    lr_value = 'LR' + lr_part[2:]\n",
    "\n",
    "    # Read data and update the DataFrame\n",
    "    if lr_value in learning_rates:\n",
    "        df = pd.read_csv(os.path.join(path, file_name))\n",
    "        for metric in metrics:\n",
    "            if metric in df.columns:\n",
    "                results_df.loc[lr_value, metric] = df[metric].mean()  # Assuming you want to use the mean value\n",
    "\n",
    "# Convert the DataFrame to a LaTeX table\n",
    "latex_table = results_df.to_latex(float_format=format_float, header=True, bold_rows=True, na_rep='N/A')\n",
    "print(latex_table)\n",
    "\n"
   ]
  },
  {
   "cell_type": "code",
   "execution_count": 1,
   "metadata": {},
   "outputs": [
    {
     "name": "stdout",
     "output_type": "stream",
     "text": [
      "accuracy : \t 99.83 \t 98.5\n",
      "brier_score : \t 0.21 \t 8.1\n",
      "confidence_APR_aleatoric : \t 100.0 \t 99.98\n",
      "confidence_APR_epistemic : \t 100.0 \t 98.76\n",
      "ood_detection_APR_aleatoric_Disk : \t 94.33 \t 86.56\n",
      "ood_detection_APR_epistemic_Disk : \t 29.59 \t 15.91\n",
      "ood_detection_APR_aleatoric_Circles : \t 31.4 \t 85.04\n",
      "ood_detection_APR_epistemic_Circles : \t 30.74 \t 25.73\n",
      "ood_detection_APR_aleatoric_Blobs : \t 15.91 \t 94.44\n",
      "ood_detection_APR_epistemic_Blobs : \t 35.34 \t 96.4\n"
     ]
    }
   ],
   "source": [
    "import pandas as pd\n",
    "import os\n",
    "import numpy as np\n",
    "\n",
    "\n",
    "path = '.'\n",
    "\n",
    "# Load the csv file\n",
    "df1 = pd.read_csv('csvEnsemble_LR0.001_Warm1000_Epoch1000_Wdecay1e-05.csv')\n",
    "df2 = pd.read_csv('csvPostNet_Reg1e-05_LR1e-05_Flows8_Warm1000_Epoch1000_Wdecay1e-05_HidD32_hLay2_LD2.csv')\n",
    "\n",
    "# Print these metrics mulitplied by 100 and rounded to 2 decimal places\n",
    "metrics = ['accuracy', 'brier_score', 'confidence_APR_aleatoric', 'confidence_APR_epistemic',\n",
    "           'ood_detection_APR_aleatoric_Disk', 'ood_detection_APR_epistemic_Disk',\n",
    "           'ood_detection_APR_aleatoric_Circles', 'ood_detection_APR_epistemic_Circles', \n",
    "            'ood_detection_APR_aleatoric_Blobs', 'ood_detection_APR_epistemic_Blobs']\n",
    "for metric in metrics:\n",
    "    print(metric, \": \\t\",round(df1[metric].item()*100, 2), \"\\t\", round(df2[metric].item()*100, 2))\n",
    "\n"
   ]
  },
  {
   "cell_type": "code",
   "execution_count": 10,
   "metadata": {},
   "outputs": [
    {
     "name": "stdout",
     "output_type": "stream",
     "text": [
      "3.908352\n"
     ]
    },
    {
     "data": {
      "text/plain": [
       "0.977088"
      ]
     },
     "execution_count": 10,
     "metadata": {},
     "output_type": "execute_result"
    }
   ],
   "source": [
    "print(0.990022+0.984945+0.966056+0.967329)\n",
    "(0.990022+0.984945+0.966056+0.967329)/4"
   ]
  },
  {
   "cell_type": "code",
   "execution_count": 8,
   "metadata": {},
   "outputs": [
    {
     "name": "stdout",
     "output_type": "stream",
     "text": [
      "3.91075\n"
     ]
    },
    {
     "data": {
      "text/plain": [
       "0.97769125"
      ]
     },
     "execution_count": 8,
     "metadata": {},
     "output_type": "execute_result"
    }
   ],
   "source": [
    "print(0.9774+0.98015+0.9733+0.9799)\n",
    "(0.977405+0.980155+0.973301+0.979904)/4"
   ]
  }
 ],
 "metadata": {
  "kernelspec": {
   "display_name": "Python 3",
   "language": "python",
   "name": "python3"
  },
  "language_info": {
   "codemirror_mode": {
    "name": "ipython",
    "version": 3
   },
   "file_extension": ".py",
   "mimetype": "text/x-python",
   "name": "python",
   "nbconvert_exporter": "python",
   "pygments_lexer": "ipython3",
   "version": "3.10.10"
  }
 },
 "nbformat": 4,
 "nbformat_minor": 2
}
